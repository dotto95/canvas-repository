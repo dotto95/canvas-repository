{
 "cells": [
  {
   "cell_type": "code",
   "execution_count": 13,
   "metadata": {},
   "outputs": [],
   "source": [
    "# installo libreria python psutil tramite il comando pip install"
   ]
  },
  {
   "cell_type": "code",
   "execution_count": 12,
   "metadata": {},
   "outputs": [
    {
     "name": "stdout",
     "output_type": "stream",
     "text": [
      "Requirement already satisfied: psutil in /opt/conda/lib/python3.8/site-packages (5.8.0)\n",
      "Note: you may need to restart the kernel to use updated packages.\n"
     ]
    }
   ],
   "source": [
    "pip install psutil"
   ]
  },
  {
   "cell_type": "markdown",
   "metadata": {},
   "source": [
    "# TITOLO\n",
    "## sottotitolo\n",
    "### 3^ subtitle\n",
    "\n",
    "La campagna italiana di Grecia si svolse tra il 28 ottobre 1940 e il 23 aprile 1941, nell'ambito dei più vasti eventi della campagna dei Balcani della seconda guerra mondiale.\n",
    "\n",
    "La campagna si aprì con un'offensiva del Regio Esercito italiano a partire dalle sue basi in Albania (controllata dagli italiani fin dall'aprile 1939) verso la regione dell'Epiro in Grecia, mossa decisa da Benito Mussolini al fine di riequilibrare lo stato dell'alleanza con la Germania nazista e di riaffermare il ruolo autonomo dell'Italia nel conflitto mondiale in corso. Malamente pianificata dal generale Sebastiano Visconti Prasca ed eseguita con forze numericamente insufficienti e scarsamente equipaggiate, l'offensiva italiana andò incontro a un disastro: bloccato l'attacco nemico, le forze greche del generale Alexandros Papagos, appoggiate da unità aeree della Royal Air Force britannica, passarono decisamente al contrattacco respingendo le unità italiane oltre la frontiera e continuando ad avanzare in profondità nel territorio albanese. La sostituzione di Visconti Prasca, prima con il generale Ubaldo Soddu e poi con il generale Ugo Cavallero, non portò a grandi miglioramenti per le forze italiane, rinforzate in maniera caotica da un flusso disorganizzato di truppe e alle prese con una pessima situazione logistica; solo a fine febbraio 1941 il fronte italiano poté infine essere stabilizzato.\n",
    "\n",
    "In marzo le forze italiane tentarono una massiccia controffensiva per respingere i greci dall'Albania, ma andarono incontro a un sanguinoso fallimento. La guerra si trascinò in una situazione di stallo fino all'aprile 1941, quando la Germania intervenne in forze nella regione balcanica: con un'azione fulminea, le truppe tedesche invasero la Jugoslavia e la Grecia, costringendole in poco tempo alla capitolazione. Benché vittoriosa nel finale, la campagna di Grecia si tradusse in un grave insuccesso politico per l'Italia, costretta ad abbandonare ogni pretesa di condotta autonoma e distinta dai tedeschi delle operazioni belliche.\n",
    "\n",
    "\n",
    "\n",
    "Questo non dovrebbe venire eseguito! è una cella-commento: https://www.youtube.com/watch?v=8woMcOZn1ZA"
   ]
  },
  {
   "cell_type": "code",
   "execution_count": 5,
   "metadata": {},
   "outputs": [
    {
     "name": "stdout",
     "output_type": "stream",
     "text": [
      "Memoria totale disponibile per la mia istanza: 989 Mb\n"
     ]
    }
   ],
   "source": [
    "import psutil\n",
    "values = psutil.virtual_memory()\n",
    "\n",
    "total = values.total >> 20\n",
    "print(\"Memoria totale disponibile per la mia istanza: \"+str(total) + \" Mb\")"
   ]
  },
  {
   "cell_type": "code",
   "execution_count": null,
   "metadata": {},
   "outputs": [],
   "source": []
  }
 ],
 "metadata": {
  "kernelspec": {
   "display_name": "Python 3",
   "language": "python",
   "name": "python3"
  },
  "language_info": {
   "codemirror_mode": {
    "name": "ipython",
    "version": 3
   },
   "file_extension": ".py",
   "mimetype": "text/x-python",
   "name": "python",
   "nbconvert_exporter": "python",
   "pygments_lexer": "ipython3",
   "version": "3.8.5"
  }
 },
 "nbformat": 4,
 "nbformat_minor": 4
}
